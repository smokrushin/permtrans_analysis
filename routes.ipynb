{
 "cells": [
  {
   "cell_type": "code",
   "execution_count": 1,
   "metadata": {},
   "outputs": [],
   "source": [
    "import pandas as pd"
   ]
  },
  {
   "cell_type": "code",
   "execution_count": 2,
   "metadata": {},
   "outputs": [],
   "source": [
    "routes = pd.read_excel('routes.xlsx')"
   ]
  },
  {
   "cell_type": "code",
   "execution_count": 3,
   "metadata": {},
   "outputs": [
    {
     "data": {
      "text/html": [
       "<div>\n",
       "<style scoped>\n",
       "    .dataframe tbody tr th:only-of-type {\n",
       "        vertical-align: middle;\n",
       "    }\n",
       "\n",
       "    .dataframe tbody tr th {\n",
       "        vertical-align: top;\n",
       "    }\n",
       "\n",
       "    .dataframe thead th {\n",
       "        text-align: right;\n",
       "    }\n",
       "</style>\n",
       "<table border=\"1\" class=\"dataframe\">\n",
       "  <thead>\n",
       "    <tr style=\"text-align: right;\">\n",
       "      <th></th>\n",
       "      <th>route_number</th>\n",
       "      <th>route_name</th>\n",
       "      <th>length_km</th>\n",
       "      <th>type</th>\n",
       "      <th>class</th>\n",
       "      <th>units_quantity</th>\n",
       "      <th>reserve_quantity</th>\n",
       "      <th>units_age</th>\n",
       "    </tr>\n",
       "  </thead>\n",
       "  <tbody>\n",
       "    <tr>\n",
       "      <th>0</th>\n",
       "      <td>1</td>\n",
       "      <td>Микрорайон Садовый – станция Пермь-II</td>\n",
       "      <td>10.20</td>\n",
       "      <td>автобус</td>\n",
       "      <td>большой</td>\n",
       "      <td>19</td>\n",
       "      <td>2</td>\n",
       "      <td>Не старше 7 лет</td>\n",
       "    </tr>\n",
       "    <tr>\n",
       "      <th>1</th>\n",
       "      <td>2</td>\n",
       "      <td>Станция Пермь-II – станция Пермь-I</td>\n",
       "      <td>5.20</td>\n",
       "      <td>автобус</td>\n",
       "      <td>большой</td>\n",
       "      <td>6</td>\n",
       "      <td>1</td>\n",
       "      <td>Не старше 5 лет</td>\n",
       "    </tr>\n",
       "    <tr>\n",
       "      <th>2</th>\n",
       "      <td>3</td>\n",
       "      <td>Станция Пермь-I – Дворец творчества юных (12) ...</td>\n",
       "      <td>10.80</td>\n",
       "      <td>автобус</td>\n",
       "      <td>большой</td>\n",
       "      <td>17</td>\n",
       "      <td>2</td>\n",
       "      <td>Не старше 7 лет</td>\n",
       "    </tr>\n",
       "    <tr>\n",
       "      <th>3</th>\n",
       "      <td>4</td>\n",
       "      <td>Дворец спорта «Молот» – микрорайон Нагорный</td>\n",
       "      <td>13.55</td>\n",
       "      <td>автобус</td>\n",
       "      <td>большой</td>\n",
       "      <td>17</td>\n",
       "      <td>2</td>\n",
       "      <td>Не старше 7 лет</td>\n",
       "    </tr>\n",
       "    <tr>\n",
       "      <th>4</th>\n",
       "      <td>5</td>\n",
       "      <td>Комсомольская площадь – НПО «Биомед» – микрора...</td>\n",
       "      <td>9.60</td>\n",
       "      <td>автобус</td>\n",
       "      <td>малый и средний</td>\n",
       "      <td>6</td>\n",
       "      <td>1</td>\n",
       "      <td>Не старше 5 лет</td>\n",
       "    </tr>\n",
       "  </tbody>\n",
       "</table>\n",
       "</div>"
      ],
      "text/plain": [
       "  route_number                                         route_name  length_km  \\\n",
       "0            1              Микрорайон Садовый – станция Пермь-II      10.20   \n",
       "1            2                 Станция Пермь-II – станция Пермь-I       5.20   \n",
       "2            3  Станция Пермь-I – Дворец творчества юных (12) ...      10.80   \n",
       "3            4        Дворец спорта «Молот» – микрорайон Нагорный      13.55   \n",
       "4            5  Комсомольская площадь – НПО «Биомед» – микрора...       9.60   \n",
       "\n",
       "      type            class  units_quantity  reserve_quantity  \\\n",
       "0  автобус          большой              19                 2   \n",
       "1  автобус          большой               6                 1   \n",
       "2  автобус          большой              17                 2   \n",
       "3  автобус          большой              17                 2   \n",
       "4  автобус  малый и средний               6                 1   \n",
       "\n",
       "          units_age  \n",
       "0  Не старше 7 лет   \n",
       "1   Не старше 5 лет  \n",
       "2   Не старше 7 лет  \n",
       "3  Не старше 7 лет   \n",
       "4  Не старше 5 лет   "
      ]
     },
     "execution_count": 3,
     "metadata": {},
     "output_type": "execute_result"
    }
   ],
   "source": [
    "routes.head()"
   ]
  },
  {
   "cell_type": "code",
   "execution_count": 4,
   "metadata": {},
   "outputs": [
    {
     "data": {
      "text/plain": [
       "<matplotlib.axes._subplots.AxesSubplot at 0x1a9a3c92648>"
      ]
     },
     "execution_count": 4,
     "metadata": {},
     "output_type": "execute_result"
    },
    {
     "data": {
      "image/png": "[encoded data removed]",
      "text/plain": [
       "<Figure size 432x288 with 1 Axes>"
      ]
     },
     "metadata": {
      "needs_background": "light"
     },
     "output_type": "display_data"
    }
   ],
   "source": [
    "routes.length_km.hist()"
   ]
  },
  {
   "cell_type": "code",
   "execution_count": 5,
   "metadata": {},
   "outputs": [],
   "source": [
    "def length_type(length):\n",
    "    if length <= 10:\n",
    "        return '< 10 км'\n",
    "    if 10 < length <= 20:\n",
    "        return '10-20 км'\n",
    "    if length > 20:\n",
    "        return '> 20 км'"
   ]
  },
  {
   "cell_type": "code",
   "execution_count": 6,
   "metadata": {},
   "outputs": [],
   "source": [
    "routes['length_type'] = routes['length_km'].apply(length_type)"
   ]
  },
  {
   "cell_type": "code",
   "execution_count": 7,
   "metadata": {},
   "outputs": [
    {
     "data": {
      "text/plain": [
       "10-20 км    43\n",
       "> 20 км     21\n",
       "< 10 км     20\n",
       "Name: length_type, dtype: int64"
      ]
     },
     "execution_count": 7,
     "metadata": {},
     "output_type": "execute_result"
    }
   ],
   "source": [
    "routes['length_type'].value_counts()"
   ]
  },
  {
   "cell_type": "code",
   "execution_count": 8,
   "metadata": {},
   "outputs": [],
   "source": [
    "routes.to_excel('routes_info.xlsx')"
   ]
  },
  {
   "cell_type": "code",
   "execution_count": null,
   "metadata": {},
   "outputs": [],
   "source": []
  }
 ],
 "metadata": {
  "kernelspec": {
   "display_name": "Python 3",
   "language": "python",
   "name": "python3"
  },
  "language_info": {
   "codemirror_mode": {
    "name": "ipython",
    "version": 3
   },
   "file_extension": ".py",
   "mimetype": "text/x-python",
   "name": "python",
   "nbconvert_exporter": "python",
   "pygments_lexer": "ipython3",
   "version": "3.7.6"
  }
 },
 "nbformat": 4,
 "nbformat_minor": 4
}
